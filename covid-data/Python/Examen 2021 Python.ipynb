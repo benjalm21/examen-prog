{
 "cells": [
  {
   "cell_type": "code",
   "execution_count": 1,
   "id": "5a4995a6",
   "metadata": {},
   "outputs": [],
   "source": [
    "import pandas as pd"
   ]
  },
  {
   "cell_type": "code",
   "execution_count": 4,
   "id": "b4bdc2e5",
   "metadata": {},
   "outputs": [],
   "source": [
    "df_raw = pd.read_csv('200511COVID19MEXICO.csv', encoding = 'latin1')"
   ]
  },
  {
   "cell_type": "code",
   "execution_count": 5,
   "id": "08486f1b",
   "metadata": {},
   "outputs": [
    {
     "data": {
      "text/plain": [
       "Index(['FECHA_ACTUALIZACION', 'ID_REGISTRO', 'ORIGEN', 'SECTOR', 'ENTIDAD_UM',\n",
       "       'SEXO', 'ENTIDAD_NAC', 'ENTIDAD_RES', 'MUNICIPIO_RES', 'TIPO_PACIENTE',\n",
       "       'FECHA_INGRESO', 'FECHA_SINTOMAS', 'FECHA_DEF', 'INTUBADO', 'NEUMONIA',\n",
       "       'EDAD', 'NACIONALIDAD', 'EMBARAZO', 'HABLA_LENGUA_INDIG', 'DIABETES',\n",
       "       'EPOC', 'ASMA', 'INMUSUPR', 'HIPERTENSION', 'OTRA_COM',\n",
       "       'CARDIOVASCULAR', 'OBESIDAD', 'RENAL_CRONICA', 'TABAQUISMO',\n",
       "       'OTRO_CASO', 'RESULTADO', 'MIGRANTE', 'PAIS_NACIONALIDAD',\n",
       "       'PAIS_ORIGEN', 'UCI'],\n",
       "      dtype='object')"
      ]
     },
     "execution_count": 5,
     "metadata": {},
     "output_type": "execute_result"
    }
   ],
   "source": [
    "df_raw.columns"
   ]
  },
  {
   "cell_type": "code",
   "execution_count": 6,
   "id": "9908e466",
   "metadata": {},
   "outputs": [],
   "source": [
    "df_sonora = df_raw.query(\"ENTIDAD_RES == 26 and RESULTADO == 1 and FECHA_DEF != '9999-99-99' \")[['FECHA_SINTOMAS','FECHA_INGRESO', 'FECHA_DEF']].groupby(['FECHA_SINTOMAS','FECHA_INGRESO']).count()"
   ]
  },
  {
   "cell_type": "code",
   "execution_count": 7,
   "id": "625b21ce",
   "metadata": {},
   "outputs": [
    {
     "data": {
      "text/html": [
       "<div>\n",
       "<style scoped>\n",
       "    .dataframe tbody tr th:only-of-type {\n",
       "        vertical-align: middle;\n",
       "    }\n",
       "\n",
       "    .dataframe tbody tr th {\n",
       "        vertical-align: top;\n",
       "    }\n",
       "\n",
       "    .dataframe thead th {\n",
       "        text-align: right;\n",
       "    }\n",
       "</style>\n",
       "<table border=\"1\" class=\"dataframe\">\n",
       "  <thead>\n",
       "    <tr style=\"text-align: right;\">\n",
       "      <th></th>\n",
       "      <th></th>\n",
       "      <th>FECHA_DEF</th>\n",
       "    </tr>\n",
       "    <tr>\n",
       "      <th>FECHA_SINTOMAS</th>\n",
       "      <th>FECHA_INGRESO</th>\n",
       "      <th></th>\n",
       "    </tr>\n",
       "  </thead>\n",
       "  <tbody>\n",
       "    <tr>\n",
       "      <th>2020-03-20</th>\n",
       "      <th>2020-03-25</th>\n",
       "      <td>1</td>\n",
       "    </tr>\n",
       "    <tr>\n",
       "      <th>2020-03-22</th>\n",
       "      <th>2020-03-28</th>\n",
       "      <td>1</td>\n",
       "    </tr>\n",
       "    <tr>\n",
       "      <th>2020-03-24</th>\n",
       "      <th>2020-03-24</th>\n",
       "      <td>1</td>\n",
       "    </tr>\n",
       "    <tr>\n",
       "      <th rowspan=\"2\" valign=\"top\">2020-03-27</th>\n",
       "      <th>2020-03-27</th>\n",
       "      <td>1</td>\n",
       "    </tr>\n",
       "    <tr>\n",
       "      <th>2020-04-10</th>\n",
       "      <td>1</td>\n",
       "    </tr>\n",
       "    <tr>\n",
       "      <th rowspan=\"2\" valign=\"top\">2020-03-28</th>\n",
       "      <th>2020-04-01</th>\n",
       "      <td>1</td>\n",
       "    </tr>\n",
       "    <tr>\n",
       "      <th>2020-04-02</th>\n",
       "      <td>1</td>\n",
       "    </tr>\n",
       "    <tr>\n",
       "      <th>2020-03-30</th>\n",
       "      <th>2020-04-02</th>\n",
       "      <td>1</td>\n",
       "    </tr>\n",
       "    <tr>\n",
       "      <th>2020-03-31</th>\n",
       "      <th>2020-04-04</th>\n",
       "      <td>1</td>\n",
       "    </tr>\n",
       "    <tr>\n",
       "      <th rowspan=\"2\" valign=\"top\">2020-04-01</th>\n",
       "      <th>2020-04-04</th>\n",
       "      <td>1</td>\n",
       "    </tr>\n",
       "    <tr>\n",
       "      <th>2020-04-06</th>\n",
       "      <td>1</td>\n",
       "    </tr>\n",
       "    <tr>\n",
       "      <th>2020-04-03</th>\n",
       "      <th>2020-04-06</th>\n",
       "      <td>1</td>\n",
       "    </tr>\n",
       "    <tr>\n",
       "      <th>2020-04-04</th>\n",
       "      <th>2020-04-09</th>\n",
       "      <td>1</td>\n",
       "    </tr>\n",
       "    <tr>\n",
       "      <th>2020-04-06</th>\n",
       "      <th>2020-04-09</th>\n",
       "      <td>1</td>\n",
       "    </tr>\n",
       "    <tr>\n",
       "      <th>2020-04-08</th>\n",
       "      <th>2020-04-14</th>\n",
       "      <td>1</td>\n",
       "    </tr>\n",
       "    <tr>\n",
       "      <th>2020-04-09</th>\n",
       "      <th>2020-04-16</th>\n",
       "      <td>2</td>\n",
       "    </tr>\n",
       "    <tr>\n",
       "      <th rowspan=\"2\" valign=\"top\">2020-04-10</th>\n",
       "      <th>2020-04-12</th>\n",
       "      <td>1</td>\n",
       "    </tr>\n",
       "    <tr>\n",
       "      <th>2020-04-13</th>\n",
       "      <td>1</td>\n",
       "    </tr>\n",
       "    <tr>\n",
       "      <th rowspan=\"2\" valign=\"top\">2020-04-11</th>\n",
       "      <th>2020-04-15</th>\n",
       "      <td>1</td>\n",
       "    </tr>\n",
       "    <tr>\n",
       "      <th>2020-04-18</th>\n",
       "      <td>1</td>\n",
       "    </tr>\n",
       "    <tr>\n",
       "      <th rowspan=\"2\" valign=\"top\">2020-04-13</th>\n",
       "      <th>2020-04-13</th>\n",
       "      <td>1</td>\n",
       "    </tr>\n",
       "    <tr>\n",
       "      <th>2020-04-18</th>\n",
       "      <td>1</td>\n",
       "    </tr>\n",
       "    <tr>\n",
       "      <th rowspan=\"2\" valign=\"top\">2020-04-14</th>\n",
       "      <th>2020-04-18</th>\n",
       "      <td>1</td>\n",
       "    </tr>\n",
       "    <tr>\n",
       "      <th>2020-04-21</th>\n",
       "      <td>1</td>\n",
       "    </tr>\n",
       "    <tr>\n",
       "      <th rowspan=\"2\" valign=\"top\">2020-04-16</th>\n",
       "      <th>2020-04-19</th>\n",
       "      <td>1</td>\n",
       "    </tr>\n",
       "    <tr>\n",
       "      <th>2020-04-22</th>\n",
       "      <td>1</td>\n",
       "    </tr>\n",
       "    <tr>\n",
       "      <th>2020-04-18</th>\n",
       "      <th>2020-04-21</th>\n",
       "      <td>1</td>\n",
       "    </tr>\n",
       "    <tr>\n",
       "      <th>2020-04-20</th>\n",
       "      <th>2020-04-27</th>\n",
       "      <td>1</td>\n",
       "    </tr>\n",
       "    <tr>\n",
       "      <th>2020-04-23</th>\n",
       "      <th>2020-04-27</th>\n",
       "      <td>1</td>\n",
       "    </tr>\n",
       "    <tr>\n",
       "      <th>2020-04-27</th>\n",
       "      <th>2020-04-27</th>\n",
       "      <td>1</td>\n",
       "    </tr>\n",
       "    <tr>\n",
       "      <th>2020-04-30</th>\n",
       "      <th>2020-04-30</th>\n",
       "      <td>1</td>\n",
       "    </tr>\n",
       "    <tr>\n",
       "      <th>2020-05-01</th>\n",
       "      <th>2020-05-02</th>\n",
       "      <td>1</td>\n",
       "    </tr>\n",
       "  </tbody>\n",
       "</table>\n",
       "</div>"
      ],
      "text/plain": [
       "                              FECHA_DEF\n",
       "FECHA_SINTOMAS FECHA_INGRESO           \n",
       "2020-03-20     2020-03-25             1\n",
       "2020-03-22     2020-03-28             1\n",
       "2020-03-24     2020-03-24             1\n",
       "2020-03-27     2020-03-27             1\n",
       "               2020-04-10             1\n",
       "2020-03-28     2020-04-01             1\n",
       "               2020-04-02             1\n",
       "2020-03-30     2020-04-02             1\n",
       "2020-03-31     2020-04-04             1\n",
       "2020-04-01     2020-04-04             1\n",
       "               2020-04-06             1\n",
       "2020-04-03     2020-04-06             1\n",
       "2020-04-04     2020-04-09             1\n",
       "2020-04-06     2020-04-09             1\n",
       "2020-04-08     2020-04-14             1\n",
       "2020-04-09     2020-04-16             2\n",
       "2020-04-10     2020-04-12             1\n",
       "               2020-04-13             1\n",
       "2020-04-11     2020-04-15             1\n",
       "               2020-04-18             1\n",
       "2020-04-13     2020-04-13             1\n",
       "               2020-04-18             1\n",
       "2020-04-14     2020-04-18             1\n",
       "               2020-04-21             1\n",
       "2020-04-16     2020-04-19             1\n",
       "               2020-04-22             1\n",
       "2020-04-18     2020-04-21             1\n",
       "2020-04-20     2020-04-27             1\n",
       "2020-04-23     2020-04-27             1\n",
       "2020-04-27     2020-04-27             1\n",
       "2020-04-30     2020-04-30             1\n",
       "2020-05-01     2020-05-02             1"
      ]
     },
     "execution_count": 7,
     "metadata": {},
     "output_type": "execute_result"
    }
   ],
   "source": [
    "df_sonora"
   ]
  },
  {
   "cell_type": "code",
   "execution_count": 8,
   "id": "87431655",
   "metadata": {},
   "outputs": [],
   "source": [
    "df_sonora.rename(columns={'FECHA_DEF':'DECESOS'}, inplace=True)"
   ]
  },
  {
   "cell_type": "code",
   "execution_count": 9,
   "id": "669396bb",
   "metadata": {},
   "outputs": [],
   "source": [
    "df_sonora.to_csv(\"tabla1.csv\")"
   ]
  },
  {
   "cell_type": "code",
   "execution_count": 10,
   "id": "40eed02c",
   "metadata": {},
   "outputs": [],
   "source": [
    "df_SCNP = df_raw.query(\"ENTIDAD_RES == [8,19,21,26] and TIPO_PACIENTE == 2\")[['ENTIDAD_RES','TIPO_PACIENTE']].groupby(['ENTIDAD_RES']).count()"
   ]
  },
  {
   "cell_type": "code",
   "execution_count": 11,
   "id": "8aade17e",
   "metadata": {},
   "outputs": [],
   "source": [
    "df_SCNP.index = df_SCNP.index.map({8:'Chichuahua', 19:'Nuevo Leon', 21:'Puebla', 26:'Sonora'})"
   ]
  },
  {
   "cell_type": "code",
   "execution_count": 12,
   "id": "08837b3e",
   "metadata": {},
   "outputs": [],
   "source": [
    "df_SCNP.rename(columns={'TIPO_PACIENTE':'HOSPITALIZADOS'}, inplace=True)"
   ]
  },
  {
   "cell_type": "code",
   "execution_count": 13,
   "id": "07a37909",
   "metadata": {},
   "outputs": [
    {
     "data": {
      "text/html": [
       "<div>\n",
       "<style scoped>\n",
       "    .dataframe tbody tr th:only-of-type {\n",
       "        vertical-align: middle;\n",
       "    }\n",
       "\n",
       "    .dataframe tbody tr th {\n",
       "        vertical-align: top;\n",
       "    }\n",
       "\n",
       "    .dataframe thead th {\n",
       "        text-align: right;\n",
       "    }\n",
       "</style>\n",
       "<table border=\"1\" class=\"dataframe\">\n",
       "  <thead>\n",
       "    <tr style=\"text-align: right;\">\n",
       "      <th></th>\n",
       "      <th>HOSPITALIZADOS</th>\n",
       "    </tr>\n",
       "    <tr>\n",
       "      <th>ENTIDAD_RES</th>\n",
       "      <th></th>\n",
       "    </tr>\n",
       "  </thead>\n",
       "  <tbody>\n",
       "    <tr>\n",
       "      <th>Chichuahua</th>\n",
       "      <td>1013</td>\n",
       "    </tr>\n",
       "    <tr>\n",
       "      <th>Nuevo Leon</th>\n",
       "      <td>1065</td>\n",
       "    </tr>\n",
       "    <tr>\n",
       "      <th>Puebla</th>\n",
       "      <td>1295</td>\n",
       "    </tr>\n",
       "    <tr>\n",
       "      <th>Sonora</th>\n",
       "      <td>604</td>\n",
       "    </tr>\n",
       "  </tbody>\n",
       "</table>\n",
       "</div>"
      ],
      "text/plain": [
       "             HOSPITALIZADOS\n",
       "ENTIDAD_RES                \n",
       "Chichuahua             1013\n",
       "Nuevo Leon             1065\n",
       "Puebla                 1295\n",
       "Sonora                  604"
      ]
     },
     "execution_count": 13,
     "metadata": {},
     "output_type": "execute_result"
    }
   ],
   "source": [
    "df_SCNP"
   ]
  },
  {
   "cell_type": "code",
   "execution_count": 14,
   "id": "c5a58767",
   "metadata": {},
   "outputs": [],
   "source": [
    "df_SCNP.to_csv(\"tabla2.csv\")"
   ]
  },
  {
   "cell_type": "code",
   "execution_count": 15,
   "id": "a99d956d",
   "metadata": {},
   "outputs": [
    {
     "data": {
      "image/png": "[encoded data removed]",
      "text/plain": [
       "<Figure size 432x288 with 1 Axes>"
      ]
     },
     "metadata": {
      "needs_background": "light"
     },
     "output_type": "display_data"
    }
   ],
   "source": [
    "Grafica1 = df_SCNP.plot.bar()"
   ]
  },
  {
   "cell_type": "code",
   "execution_count": 16,
   "id": "8dfd3530",
   "metadata": {},
   "outputs": [],
   "source": [
    "Grafica1.get_figure().savefig('Grafica1.png')"
   ]
  },
  {
   "cell_type": "code",
   "execution_count": 17,
   "id": "197fcb63",
   "metadata": {},
   "outputs": [],
   "source": [
    "df_tiempo = df_raw.query(\"RESULTADO == 1\")[['FECHA_SINTOMAS','RESULTADO']].groupby(['FECHA_SINTOMAS']).count()"
   ]
  },
  {
   "cell_type": "code",
   "execution_count": 18,
   "id": "aa6896dc",
   "metadata": {},
   "outputs": [],
   "source": [
    "df_tiempo.rename(columns={'RESULTADO':'CASOS_CONFIRMADOS'}, inplace=True)"
   ]
  },
  {
   "cell_type": "code",
   "execution_count": 19,
   "id": "0f331063",
   "metadata": {},
   "outputs": [
    {
     "data": {
      "text/html": [
       "<div>\n",
       "<style scoped>\n",
       "    .dataframe tbody tr th:only-of-type {\n",
       "        vertical-align: middle;\n",
       "    }\n",
       "\n",
       "    .dataframe tbody tr th {\n",
       "        vertical-align: top;\n",
       "    }\n",
       "\n",
       "    .dataframe thead th {\n",
       "        text-align: right;\n",
       "    }\n",
       "</style>\n",
       "<table border=\"1\" class=\"dataframe\">\n",
       "  <thead>\n",
       "    <tr style=\"text-align: right;\">\n",
       "      <th></th>\n",
       "      <th>CASOS_CONFIRMADOS</th>\n",
       "    </tr>\n",
       "    <tr>\n",
       "      <th>FECHA_SINTOMAS</th>\n",
       "      <th></th>\n",
       "    </tr>\n",
       "  </thead>\n",
       "  <tbody>\n",
       "    <tr>\n",
       "      <th>2020-01-08</th>\n",
       "      <td>1</td>\n",
       "    </tr>\n",
       "    <tr>\n",
       "      <th>2020-01-14</th>\n",
       "      <td>1</td>\n",
       "    </tr>\n",
       "    <tr>\n",
       "      <th>2020-01-17</th>\n",
       "      <td>1</td>\n",
       "    </tr>\n",
       "    <tr>\n",
       "      <th>2020-01-28</th>\n",
       "      <td>1</td>\n",
       "    </tr>\n",
       "    <tr>\n",
       "      <th>2020-01-30</th>\n",
       "      <td>1</td>\n",
       "    </tr>\n",
       "    <tr>\n",
       "      <th>...</th>\n",
       "      <td>...</td>\n",
       "    </tr>\n",
       "    <tr>\n",
       "      <th>2020-05-06</th>\n",
       "      <td>348</td>\n",
       "    </tr>\n",
       "    <tr>\n",
       "      <th>2020-05-07</th>\n",
       "      <td>181</td>\n",
       "    </tr>\n",
       "    <tr>\n",
       "      <th>2020-05-08</th>\n",
       "      <td>97</td>\n",
       "    </tr>\n",
       "    <tr>\n",
       "      <th>2020-05-09</th>\n",
       "      <td>20</td>\n",
       "    </tr>\n",
       "    <tr>\n",
       "      <th>2020-05-10</th>\n",
       "      <td>9</td>\n",
       "    </tr>\n",
       "  </tbody>\n",
       "</table>\n",
       "<p>89 rows × 1 columns</p>\n",
       "</div>"
      ],
      "text/plain": [
       "                CASOS_CONFIRMADOS\n",
       "FECHA_SINTOMAS                   \n",
       "2020-01-08                      1\n",
       "2020-01-14                      1\n",
       "2020-01-17                      1\n",
       "2020-01-28                      1\n",
       "2020-01-30                      1\n",
       "...                           ...\n",
       "2020-05-06                    348\n",
       "2020-05-07                    181\n",
       "2020-05-08                     97\n",
       "2020-05-09                     20\n",
       "2020-05-10                      9\n",
       "\n",
       "[89 rows x 1 columns]"
      ]
     },
     "execution_count": 19,
     "metadata": {},
     "output_type": "execute_result"
    }
   ],
   "source": [
    "df_tiempo"
   ]
  },
  {
   "cell_type": "code",
   "execution_count": 20,
   "id": "b11e8e6f",
   "metadata": {},
   "outputs": [
    {
     "data": {
      "image/png": "[encoded data removed]",
      "text/plain": [
       "<Figure size 432x288 with 1 Axes>"
      ]
     },
     "metadata": {
      "needs_background": "light"
     },
     "output_type": "display_data"
    }
   ],
   "source": [
    "Grafica2 = df_tiempo.plot.line()"
   ]
  },
  {
   "cell_type": "code",
   "execution_count": 21,
   "id": "fd375254",
   "metadata": {},
   "outputs": [],
   "source": [
    "Grafica2.get_figure().savefig('Grafica2.png')"
   ]
  },
  {
   "cell_type": "code",
   "execution_count": null,
   "id": "8d230943",
   "metadata": {},
   "outputs": [],
   "source": []
  }
 ],
 "metadata": {
  "kernelspec": {
   "display_name": "Python 3",
   "language": "python",
   "name": "python3"
  },
  "language_info": {
   "codemirror_mode": {
    "name": "ipython",
    "version": 3
   },
   "file_extension": ".py",
   "mimetype": "text/x-python",
   "name": "python",
   "nbconvert_exporter": "python",
   "pygments_lexer": "ipython3",
   "version": "3.8.8"
  }
 },
 "nbformat": 4,
 "nbformat_minor": 5
}
